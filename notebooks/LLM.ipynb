{
 "cells": [
  {
   "cell_type": "code",
   "execution_count": null,
   "metadata": {},
   "outputs": [
    {
     "name": "stdout",
     "output_type": "stream",
     "text": [
      "L'approche de Génération de Réponses Récupératives, ou RAG (Retrieval-Augmented Generation), combine des techniques de récupération et de génération pour fournir des réponses précises à partir de sources de données structurées ou non structurées, comme des fichiers PDF. Voici une approche générale pour implémenter le RAG avec l'API d'OpenAI en utilisant GPT-4 et des fichiers PDF :\n",
      "\n",
      "### Étapes pour implémenter RAG avec des fichiers PDF :\n",
      "1. **Extraction de texte à partir des PDF :**\n",
      "   - Utilisez une bibliothèque comme `PyPDF2`, `pdfplumber`, ou `pdfminer` pour extraire le texte des fichiers PDF.\n",
      "   - Exemples en Python :\n",
      "     ```python\n",
      "     import PyPDF2\n",
      "\n",
      "     def extract_text_from_pdf(pdf_path):\n",
      "         with open(pdf_path, 'rb') as file:\n",
      "             reader = PyPDF2.PdfReader(file)\n",
      "             text = \"\"\n",
      "             for page in reader.pages:\n",
      "                 text += page.extract_text()\n",
      "         return text\n",
      "     ```\n",
      "\n",
      "2. **Segmenter et indexer les documents :**\n",
      "   - Divisez le texte extrait en morceaux plus petits, comme des paragraphes ou des phrases.\n",
      "   - Utilisez un moteur de recherche ou un indexeur, comme ElasticSearch ou FAISS, pour créer un index des segments de texte.\n",
      "\n",
      "3. **Récupération :**\n",
      "   - Lorsqu'une question est posée, utilisez le modèle d'indexation pour retrouver les segments de texte les plus pertinents par rapport à la requête.\n",
      "   - Exemples d'outils : `whoosh` pour Python, `Elasticsearch`, ou `FAISS` pour la similarité de vecteurs.\n",
      "\n",
      "4. **Génération :**\n",
      "   - Envoyez les segments récupérés ainsi que la question initiale à l'API GPT-4 pour générer une réponse.\n",
      "   - Utilisez l'API d'OpenAI :\n",
      "     ```python\n",
      "     import openai\n",
      "\n",
      "     openai.api_key = 'your-api-key'\n",
      "\n",
      "     def get_answer_from_gpt4(prompt, context):\n",
      "         response = openai.Completion.create(\n",
      "             engine=\"gpt-4\",\n",
      "             prompt=f\"{context}\\n\\nQ: {prompt}\\nA:\",\n",
      "             max_tokens=150\n",
      "         )\n",
      "         return response.choices[0].text.strip()\n",
      "     ```\n",
      "\n",
      "5. **Intégration et affichage :**\n",
      "   - Combinez la réponse générée avec le contexte pour fournir une réponse compréhensible et complète à la question posée.\n",
      "   - Affichez ou retournez cette réponse à l'utilisateur.\n",
      "\n",
      "### Considérations supplémentaires :\n",
      "- **Prétraitement du texte :** Assurez-vous que le texte extrait est nettoyé et prétraité pour améliorer la qualité de la récupération et de la génération.\n",
      "- **Utilisation des embeddings :** Considérez l'utilisation d'embeddings de texte pour améliorer le moteur de recherche des segments pertinents.\n",
      "- **Evaluation de la réponse :** Implémentez des mesures pour évaluer la pertinence et la précision des réponses générées.\n",
      "\n",
      "En suivant ces étapes, vous pourrez créer un système qui intègre des PDF comme base de connaissances pour générer des réponses augmentées de manière efficace à l'aide de puissants modèles de langage tels que ceux fournis par OpenAI.\n"
     ]
    }
   ],
   "source": [
    "from openai import OpenAI\n",
    "\n",
    "client = OpenAI()\n",
    "\n",
    "\n",
    "prompt = \"TExplique-moi comment je peux implémenter le RAG lorsque j'ai des fichiers PDF avec l'API de OpenAI en utilisant GPT-4.io.\"\n",
    "\n",
    "\n",
    "response = client.chat.completions.create(\n",
    "    model=\"gpt-4o\",\n",
    "    messages=[\n",
    "        {\n",
    "            \"role\": \"user\",\n",
    "            \"content\": [\n",
    "                {\"type\": \"text\", \"text\": prompt},\n",
    "            ],\n",
    "        }\n",
    "    ],\n",
    "    max_tokens=1000,\n",
    "    stream=True \n",
    ")\n",
    "\n",
    "\n",
    "for chunk in response:\n",
    "    if chunk.choices[0].delta.content: \n",
    "        print(chunk.choices[0].delta.content, end=\"\", flush=True)\n",
    "\n",
    "print()"
   ]
  },
  {
   "cell_type": "code",
   "execution_count": 2,
   "metadata": {},
   "outputs": [
    {
     "name": "stdout",
     "output_type": "stream",
     "text": [
      "<think>\n",
      "\n",
      "</think>\n",
      "\n",
      "The color of the sky, also known as meteorological color, can vary depending on various atmospheric conditions. On clear days, the sky appears blue due to the scattering of sunlight in the atmosphere, a phenomenon called Rayleigh scattering. This occurs when shorter wavelengths (blue and violet) of light are scattered more effectively than longer wavelengths (red, orange, etc.) because of their lower refractive index and higher absorption coefficients by particles such as air molecules.\n",
      "\n",
      "Additionally, other factors can contribute to the sky's appearance:\n",
      "1. The time of day; sunlight is most scattered when it passes through fewer layers of atmosphere, typically around solar noon.\n",
      "2. Clouds that absorb blue light tend to make the sky appear more yellow or orange rather than blue.\n",
      "3. Dust particles in the atmosphere, such as dust storms, can scatter and refract sunlight into a broader spectrum, making the sky appear bluish-white.\n",
      "\n",
      "It's important to note that while the sky appears blue, it is not always true. Sometimes, particularly in foggy conditions with heavy particles, the sky might look more red or even appear black due to increased absorption of visible light."
     ]
    }
   ],
   "source": [
    "from ollama import chat\n",
    "\n",
    "stream = chat(\n",
    "    model='deepseek-r1:1.5b',\n",
    "    messages=[{'role': 'user', 'content': 'Why is the sky blue?'}],\n",
    "    stream=True,\n",
    ")\n",
    "\n",
    "for chunk in stream:\n",
    "  print(chunk['message']['content'], end='', flush=True)"
   ]
  }
 ],
 "metadata": {
  "kernelspec": {
   "display_name": "Python 3",
   "language": "python",
   "name": "python3"
  },
  "language_info": {
   "codemirror_mode": {
    "name": "ipython",
    "version": 3
   },
   "file_extension": ".py",
   "mimetype": "text/x-python",
   "name": "python",
   "nbconvert_exporter": "python",
   "pygments_lexer": "ipython3",
   "version": "3.9.6"
  }
 },
 "nbformat": 4,
 "nbformat_minor": 2
}
