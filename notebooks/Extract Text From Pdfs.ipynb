{
 "cells": [
  {
   "cell_type": "code",
   "execution_count": 7,
   "metadata": {},
   "outputs": [
    {
     "name": "stdout",
     "output_type": "stream",
     "text": [
      "Extraction du texte de : AVIVA RX40 - MU.pdf\n",
      "Extraction du texte de : AVIVA FX40 - Brochure FR.pdf\n",
      "Extraction du texte de : Storm 4 - MM.pdf\n",
      "Extraction du texte de : TDX - MU.pdf\n",
      "Extraction du texte de : AVIVA RX40 - Brochure FR.pdf\n",
      "Extraction du texte de : M5 Corpus - BC.pdf\n",
      "Extraction du texte de : AVIVA RX40 - BC - AA2.pdf\n",
      "Extraction du texte de : Sango - Brochure.pdf\n",
      "Extraction du texte de : AVIVA FX40 - BC.pdf\n",
      "Extraction du texte de : Sango - MU.pdf\n",
      "Extraction du texte de : TDX - Brochure FR.pdf\n",
      "Extraction du texte de : Storm 4 - Brochure FR.pdf\n",
      "Extraction du texte de : LYNX - MM.pdf\n",
      "Extraction du texte de : M3 Corpus - BC.pdf\n",
      "Extraction du texte de : TDX - BC - AA2.pdf\n",
      "Extraction du texte de : Storm 4 - BC - AA2.pdf\n",
      "Extraction du texte de : AVIVA FX40 - Manuel d_utilisation.pdf\n",
      "Extraction du texte de : catalogue-permobil-2025.pdf\n",
      "Extraction du texte de : M3 Corpus - MU.pdf\n",
      "Extraction du texte de : AVIVA RX40 ULM - Brochure.pdf\n",
      "Extraction du texte de : M5 Corpus - MU.pdf\n",
      "Extraction du texte de : TDX - MM.pdf\n",
      "Extraction du texte de : AVIVA RX40 - MM.pdf\n",
      "Extraction du texte de : Juvo - MU.pdf\n",
      "Extraction du texte de : Storm 4 - MU.pdf\n",
      "Extraction du texte de : AVIVA RX40 ULM - BC.pdf\n",
      "Extraction du texte de : Sango - MM - EN.pdf\n",
      "Extraction terminée. Texte sauvegardé dans /Users/moussa-kalla/Datathon/texte_complet.txt\n"
     ]
    }
   ],
   "source": [
    "import os\n",
    "import fitz\n",
    "import pytesseract\n",
    "from PIL import Image\n",
    "from pdf2image import convert_from_path\n",
    "import pandas as pd\n",
    "\n",
    "def extract_text_from_pdf(pdf_path):\n",
    "    \"\"\"\n",
    "    Extrait le texte brut d'un fichier PDF, y compris via OCR pour les images.\n",
    "    \"\"\"\n",
    "    text = \"\"\n",
    "    doc = fitz.open(pdf_path)\n",
    "    \n",
    "    for page_num in range(len(doc)):\n",
    "        page = doc[page_num]\n",
    "        text += page.get_text(\"text\") + \"\\n\"\n",
    "        \n",
    "        # Si peu de texte trouvé, essayer OCR sur une image de la page\n",
    "        if len(text.strip()) < 10:\n",
    "            images = convert_from_path(pdf_path, first_page=page_num+1, last_page=page_num+1)\n",
    "            for image in images:\n",
    "                text += pytesseract.image_to_string(image) + \"\\n\"\n",
    "    \n",
    "    return text\n",
    "\n",
    "def extract_from_folder(folder_path, output_file):\n",
    "    \"\"\"\n",
    "    Parcourt un dossier et extrait tout le texte des fichiers PDF dans un fichier unique.\n",
    "    \"\"\"\n",
    "    all_text = \"\"\n",
    "    for filename in os.listdir(folder_path):\n",
    "        if filename.lower().endswith(\".pdf\"):\n",
    "            pdf_path = os.path.join(folder_path, filename)\n",
    "            print(f\"Extraction du texte de : {filename}\")\n",
    "            all_text += extract_text_from_pdf(pdf_path) + \"\\n\\n\"\n",
    "    \n",
    "    with open(output_file, \"w\", encoding=\"utf-8\") as f:\n",
    "        f.write(all_text)\n",
    "    \n",
    "    print(f\"Extraction terminée. Texte sauvegardé dans {output_file}\")\n",
    "\n",
    "# Utilisation\n",
    "dossier_pdfs = \"/Users/moussa-kalla/Datathon/Documents utiles\"  # Remplace avec ton dossier contenant les PDF\n",
    "fichier_sortie = \"/Users/moussa-kalla/Datathon/texte_complet.txt\"  # Nom du fichier de sortie\n",
    "extract_from_folder(dossier_pdfs, fichier_sortie)\n"
   ]
  },
  {
   "cell_type": "code",
   "execution_count": null,
   "metadata": {},
   "outputs": [],
   "source": []
  }
 ],
 "metadata": {
  "kernelspec": {
   "display_name": "Python 3",
   "language": "python",
   "name": "python3"
  },
  "language_info": {
   "codemirror_mode": {
    "name": "ipython",
    "version": 3
   },
   "file_extension": ".py",
   "mimetype": "text/x-python",
   "name": "python",
   "nbconvert_exporter": "python",
   "pygments_lexer": "ipython3",
   "version": "3.9.6"
  }
 },
 "nbformat": 4,
 "nbformat_minor": 2
}
