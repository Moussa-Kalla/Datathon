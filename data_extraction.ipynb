{
 "cells": [
  {
   "cell_type": "markdown",
   "metadata": {},
   "source": [
    "### Extraction du texte des fichier pdf"
   ]
  },
  {
   "cell_type": "code",
   "metadata": {
    "ExecuteTime": {
     "end_time": "2025-02-13T02:18:26.156205Z",
     "start_time": "2025-02-13T02:18:26.152870Z"
    }
   },
   "source": [
    "import os\n",
    "import fitz"
   ],
   "outputs": [],
   "execution_count": 161
  },
  {
   "cell_type": "code",
   "metadata": {
    "ExecuteTime": {
     "end_time": "2025-02-13T02:18:26.166766Z",
     "start_time": "2025-02-13T02:18:26.163358Z"
    }
   },
   "source": [
    "# Définir le chemin relatif\n",
    "dossier_path = os.path.join(os.getcwd(), \"Documents utiles\")\n",
    "# Lister tous les fichiers PDF\n",
    "pdf_files = [os.path.join(dossier_path, f) for f in os.listdir(dossier_path) if f.endswith(\".pdf\")]"
   ],
   "outputs": [],
   "execution_count": 162
  },
  {
   "cell_type": "code",
   "metadata": {
    "ExecuteTime": {
     "end_time": "2025-02-13T02:18:26.178519Z",
     "start_time": "2025-02-13T02:18:26.175945Z"
    }
   },
   "source": [
    "# Function pour lire chaque page d'un fichier PDF\n",
    "def read_pdf(path: str):\n",
    "    document = fitz.open(path)\n",
    "    text = \"\\n\".join([page.get_text(\"text\") for page in document])\n",
    "    return text.strip()"
   ],
   "outputs": [],
   "execution_count": 163
  },
  {
   "cell_type": "markdown",
   "metadata": {},
   "source": [
    "### Structuration des données en format QA (Questions-Réponses)\n",
    "\n",
    "- Procédure avec gemini pour générer des données d'entraînement structurées"
   ]
  },
  {
   "cell_type": "code",
   "metadata": {
    "ExecuteTime": {
     "end_time": "2025-02-13T02:18:26.187002Z",
     "start_time": "2025-02-13T02:18:26.185091Z"
    }
   },
   "source": [
    "import google.generativeai as genai\n",
    "import json"
   ],
   "outputs": [],
   "execution_count": 164
  },
  {
   "cell_type": "code",
   "metadata": {
    "ExecuteTime": {
     "end_time": "2025-02-13T02:18:26.196481Z",
     "start_time": "2025-02-13T02:18:26.193284Z"
    }
   },
   "source": [
    "def get_prompt(text: str) -> str:\n",
    "    \"\"\"\n",
    "    Génère un prompt optimisé pour extraire des données d'entraînement structurées\n",
    "    à partir d'un document, adaptées au fine-tuning de LLMs.\n",
    "\n",
    "    :param text: Contenu du document en texte brut\n",
    "    :return: Prompt formaté pour le model\n",
    "    \"\"\"\n",
    "    prompt_template = '''\n",
    "    À partir du document suivant, génère un ensemble de données d'entraînement au format JSON\n",
    "    pour le fine-tuning d'un modèle de langage : {text}\n",
    "\n",
    "    La réponse doit être uniquement un JSON valide avec le schéma suivant :\n",
    "    [\n",
    "        {{\n",
    "            \"instruction\": \"Instructions ou question claire\",\n",
    "            \"input\": \"Contexte obligatoire décrivant une situation spécifique d'utilisation\",\n",
    "            \"output\": \"Réponse précise et factuelle adaptée au contexte\"\n",
    "        }}\n",
    "    ]\n",
    "\n",
    "    Directives de génération :\n",
    "    1. Format et Structure\n",
    "        - Chaque entrée doit suivre strictement le format instruction/input/output\n",
    "        - L'instruction doit être une question claire ou une demande d'action\n",
    "        - Le champ input est OBLIGATOIRE et doit contenir :\n",
    "            * Une situation d'utilisation spécifique\n",
    "            * Des contraintes ou besoins particuliers\n",
    "            * Un profil utilisateur ou un cas d'usage\n",
    "            * Des conditions d'utilisation précises\n",
    "        - La réponse (output) doit être personnalisée selon le contexte de l'input\n",
    "\n",
    "    2. Types d'inputs requis\n",
    "        - Situations quotidiennes : \"Je suis un utilisateur quotidien qui...\"\n",
    "        - Contextes médicaux : \"Mon médecin m'a prescrit...\"\n",
    "        - Environnements spécifiques : \"Je dois utiliser l'équipement dans...\"\n",
    "        - Besoins particuliers : \"J'ai des difficultés avec...\"\n",
    "        - Scenarios d'assistance : \"Mon aidant doit pouvoir...\"\n",
    "\n",
    "    3. Contenu\n",
    "        - Couvrir tous les aspects : spécifications, fonctionnalités, options, entretien\n",
    "        - Varier les contextes d'utilisation et les profils utilisateurs\n",
    "        - Inclure des questions de suivi logiques\n",
    "        - Créer entre 100 et 500 entrées uniques\n",
    "\n",
    "    4. Qualité des données\n",
    "        - Toutes les entrées en français\n",
    "        - Réponses adaptées au contexte de l'input\n",
    "        - Éviter les répétitions\n",
    "        - Style naturel et professionnel\n",
    "\n",
    "    Exemples du format attendu :\n",
    "    [\n",
    "        {{\n",
    "            \"instruction\": \"Comment ajuster la hauteur du siège ?\",\n",
    "            \"input\": \"Je suis un kinésithérapeute qui doit adapter le fauteuil pour différents patients au cours de la journée, et j'ai besoin d'un réglage rapide et précis.\",\n",
    "            \"output\": \"Pour un ajustement rapide entre patients : 1) Utilisez le levier à dégagement rapide situé sous le siège 2) Réglez à la hauteur souhaitée - l'échelle graduée permet un réglage précis 3) Relâchez le levier pour verrouiller. Le système permet un ajustement en moins de 30 secondes.\"\n",
    "        }},\n",
    "        {{\n",
    "            \"instruction\": \"Quelle est l'autonomie du TDX SP2 ?\",\n",
    "            \"input\": \"Je suis commercial et je me déplace toute la journée en ville pour visiter des clients. J'ai besoin de savoir si l'autonomie sera suffisante pour ma journée de travail de 8h.\",\n",
    "            \"output\": \"L'autonomie de 31 km est adaptée à une journée de travail en ville. Pour votre usage professionnel, cela permet environ 6-7h de déplacements continus avec des arrêts chez les clients. Prévoyez une recharge nocturne pour maintenir la performance.\"\n",
    "        }},\n",
    "        {{\n",
    "            \"instruction\": \"Comment nettoyer le fauteuil ?\",\n",
    "            \"input\": \"Je travaille dans un EHPAD où le fauteuil est utilisé par plusieurs résidents, et nous devons respecter des protocoles d'hygiène stricts entre chaque utilisation.\",\n",
    "            \"output\": \"Pour un nettoyage conforme aux normes EHPAD : 1) Utilisez un désinfectant hospitalier homologué 2) Insistez sur les accoudoirs et la manette de contrôle 3) Essuyez avec un chiffon microfibre 4) Laissez sécher 5 minutes avant réutilisation. Évitez les jets d'eau directs sur les composants électroniques.\"\n",
    "        }}\n",
    "    ]\n",
    "    '''\n",
    "\n",
    "    return prompt_template.format(text=text)"
   ],
   "outputs": [],
   "execution_count": 165
  },
  {
   "cell_type": "code",
   "metadata": {
    "ExecuteTime": {
     "end_time": "2025-02-13T02:18:26.204012Z",
     "start_time": "2025-02-13T02:18:26.202121Z"
    }
   },
   "source": [
    "def convert_to_json(text):\n",
    "    try:\n",
    "        text = text.replace(\"json\", \"\").replace(\"```\", \"\")\n",
    "        return json.loads(text)\n",
    "    except Exception as e:\n",
    "        print(\"Erreur lors de la conversion en JSON:\", e)\n",
    "        return []"
   ],
   "outputs": [],
   "execution_count": 166
  },
  {
   "cell_type": "code",
   "metadata": {
    "ExecuteTime": {
     "end_time": "2025-02-13T02:18:26.212126Z",
     "start_time": "2025-02-13T02:18:26.209428Z"
    }
   },
   "source": [
    "from dotenv import load_dotenv\n",
    "load_dotenv()\n",
    "\n",
    "# Configuration of the Gemini model\n",
    "genai.configure(api_key=os.getenv(\"GEMINI_API_KEY\"))\n",
    "model = genai.GenerativeModel(\"gemini-2.0-flash\")\n",
    "\n",
    "def generate_data(prompt: str) -> list:\n",
    "    try:\n",
    "        response = model.generate_content(prompt)\n",
    "        return convert_to_json(response.text)\n",
    "    except Exception as e:\n",
    "        print(\"Erreur:\", e)\n",
    "        return generate_data(prompt)"
   ],
   "outputs": [],
   "execution_count": 167
  },
  {
   "cell_type": "markdown",
   "metadata": {},
   "source": [
    "## Création du data set"
   ]
  },
  {
   "cell_type": "code",
   "metadata": {
    "ExecuteTime": {
     "end_time": "2025-02-13T02:37:14.444242Z",
     "start_time": "2025-02-13T02:18:26.217242Z"
    }
   },
   "source": [
    "dataset = []\n",
    "for pdf_file in pdf_files:\n",
    "    print(f\"Traitement du fichier : {pdf_file.split('/')[-1]}\")\n",
    "    data_generate = generate_data(prompt=get_prompt(read_pdf(pdf_file)))\n",
    "    dataset.extend(data_generate)\n",
    "    print(f\"Data size -> {len(dataset)}\\n\")"
   ],
   "outputs": [
    {
     "name": "stdout",
     "output_type": "stream",
     "text": [
      "Traitement du fichier : AVIVA RX40 - MU.pdf\n",
      "Data size -> 57\n",
      "\n",
      "Traitement du fichier : AVIVA FX40 - Brochure FR.pdf\n",
      "Data size -> 103\n",
      "\n",
      "Traitement du fichier : Storm 4 - MM.pdf\n",
      "Erreur lors de la conversion en JSON: Unterminated string starting at: line 351 column 15 (char 32207)\n",
      "Data size -> 103\n",
      "\n",
      "Traitement du fichier : TDX - MU.pdf\n",
      "Data size -> 160\n",
      "\n",
      "Traitement du fichier : AVIVA RX40 - Brochure FR.pdf\n",
      "Erreur lors de la conversion en JSON: Unterminated string starting at: line 406 column 15 (char 30343)\n",
      "Data size -> 160\n",
      "\n",
      "Traitement du fichier : M5 Corpus - BC.pdf\n",
      "Data size -> 229\n",
      "\n",
      "Traitement du fichier : AVIVA RX40 - BC - AA2.pdf\n",
      "Erreur lors de la conversion en JSON: Unterminated string starting at: line 365 column 14 (char 26132)\n",
      "Data size -> 229\n",
      "\n",
      "Traitement du fichier : Sango - Brochure.pdf\n",
      "Data size -> 268\n",
      "\n",
      "Traitement du fichier : AVIVA FX40 - BC.pdf\n",
      "Erreur lors de la conversion en JSON: Expecting property name enclosed in double quotes: line 156 column 100 (char 9977)\n",
      "Data size -> 268\n",
      "\n",
      "Traitement du fichier : Sango - MU.pdf\n",
      "Data size -> 318\n",
      "\n",
      "Traitement du fichier : TDX - Brochure FR.pdf\n",
      "Erreur lors de la conversion en JSON: Unterminated string starting at: line 436 column 15 (char 28820)\n",
      "Data size -> 318\n",
      "\n",
      "Traitement du fichier : Storm 4 - Brochure FR.pdf\n",
      "Data size -> 366\n",
      "\n",
      "Traitement du fichier : LYNX - MM.pdf\n",
      "Data size -> 397\n",
      "\n",
      "Traitement du fichier : M3 Corpus - BC.pdf\n",
      "Data size -> 451\n",
      "\n",
      "Traitement du fichier : TDX - BC - AA2.pdf\n",
      "Data size -> 493\n",
      "\n",
      "Traitement du fichier : Storm 4 - BC - AA2.pdf\n",
      "Erreur lors de la conversion en JSON: Unterminated string starting at: line 459 column 20 (char 28758)\n",
      "Data size -> 493\n",
      "\n",
      "Traitement du fichier : AVIVA FX40 - Manuel d_utilisation.pdf\n",
      "Data size -> 551\n",
      "\n",
      "Traitement du fichier : catalogue-permobil-2025.pdf\n",
      "Erreur lors de la conversion en JSON: Unterminated string starting at: line 421 column 15 (char 30737)\n",
      "Data size -> 551\n",
      "\n",
      "Traitement du fichier : M3 Corpus - MU.pdf\n",
      "Erreur lors de la conversion en JSON: Unterminated string starting at: line 396 column 15 (char 30498)\n",
      "Data size -> 551\n",
      "\n",
      "Traitement du fichier : AVIVA RX40 ULM - Brochure.pdf\n",
      "Data size -> 591\n",
      "\n",
      "Traitement du fichier : M5 Corpus - MU.pdf\n",
      "Erreur lors de la conversion en JSON: Expecting ',' delimiter: line 136 column 76 (char 12390)\n",
      "Data size -> 591\n",
      "\n",
      "Traitement du fichier : TDX - MM.pdf\n",
      "Data size -> 625\n",
      "\n",
      "Traitement du fichier : AVIVA RX40 - MM.pdf\n",
      "Data size -> 686\n",
      "\n",
      "Traitement du fichier : Juvo - MU.pdf\n",
      "Data size -> 717\n",
      "\n",
      "Traitement du fichier : Storm 4 - MU.pdf\n",
      "Data size -> 786\n",
      "\n",
      "Traitement du fichier : AVIVA RX40 ULM - BC.pdf\n",
      "Erreur lors de la conversion en JSON: Unterminated string starting at: line 305 column 14 (char 27552)\n",
      "Data size -> 786\n",
      "\n",
      "Traitement du fichier : Sango - MM - EN.pdf\n",
      "Erreur lors de la conversion en JSON: Unterminated string starting at: line 436 column 15 (char 31130)\n",
      "Data size -> 786\n",
      "\n"
     ]
    }
   ],
   "execution_count": 168
  },
  {
   "metadata": {
    "ExecuteTime": {
     "end_time": "2025-02-13T02:37:14.493087Z",
     "start_time": "2025-02-13T02:37:14.483541Z"
    }
   },
   "cell_type": "code",
   "source": [
    "output_file = \"data/faq.json\"\n",
    "with open(output_file, \"w\", encoding=\"utf-8\") as f:\n",
    "    json.dump(dataset, f, indent=4, ensure_ascii=False)\n",
    "\n",
    "print(f\"Données sauvegardées dans {output_file}\")"
   ],
   "outputs": [
    {
     "name": "stdout",
     "output_type": "stream",
     "text": [
      "Données sauvegardées dans data/faq.json\n"
     ]
    }
   ],
   "execution_count": 169
  }
 ],
 "metadata": {
  "kernelspec": {
   "display_name": ".venv",
   "language": "python",
   "name": "python3"
  },
  "language_info": {
   "codemirror_mode": {
    "name": "ipython",
    "version": 3
   },
   "file_extension": ".py",
   "mimetype": "text/x-python",
   "name": "python",
   "nbconvert_exporter": "python",
   "pygments_lexer": "ipython3",
   "version": "3.9.6"
  }
 },
 "nbformat": 4,
 "nbformat_minor": 2
}
